{
 "cells": [
  {
   "cell_type": "code",
   "execution_count": 16,
   "metadata": {},
   "outputs": [
    {
     "name": "stdout",
     "output_type": "stream",
     "text": [
      "Financial Analysis\n",
      "----------------------------\n",
      "Total Months:86\n",
      "Total:38382578\n",
      "Average change :-2315.12\n",
      "Greatest Increase in Profits : 12-Feb ($1926159)\n",
      "Greatest Decrease in Loss : 13-Sep ($-2196167)\n"
     ]
    }
   ],
   "source": [
    "# Import csv file\n",
    "from pathlib import Path\n",
    "import csv\n",
    "\n",
    "csv_path = Path(r'C:\\Users\\19802\\Desktop\\UNCC_Bootcamp\\Homework\\python-homework\\PyBank\\budget_data.csv')\n",
    "\n",
    "#Initialize variable as empty list\n",
    "Net_profit = 0\n",
    "Total_month = 0\n",
    "average = 0\n",
    "max_profit = 0\n",
    "max_loss = 0\n",
    "\n",
    "#Initialize the list to store change in profit & loss\n",
    "change_in_pnl = []\n",
    "change = []\n",
    "\n",
    "\n",
    "# Open the csv file as an object\n",
    "with open(csv_path,'r') as fin:\n",
    "    \n",
    "    #Create csv reader\n",
    "    csvreader = csv.reader(fin)\n",
    "    \n",
    "    #To skip the header\n",
    "    header = next(csvreader)\n",
    "              \n",
    "    #@TODO: Iterate over each element of the list\n",
    "    for row in csvreader:\n",
    "        pnl = int(row[1])\n",
    "    \n",
    "        #calculate the changes in profit & loss\n",
    "        if change!=[]:\n",
    "            change_in_pnl.append(pnl - change[-1][1])\n",
    "    \n",
    "        change.append([row[0], pnl])\n",
    "    \n",
    "        #calculate the total Profit & loss\n",
    "        Net_profit += pnl\n",
    "    \n",
    "    # number of months in the dataset\n",
    "    Total_month = len(change)\n",
    "\n",
    "#Average change in profit & losses\n",
    "average = round(sum(change_in_pnl)/len(change_in_pnl),2)\n",
    "\n",
    "#Greatest increase in profits (date & amount)\n",
    "max_profit = max(change_in_pnl)\n",
    "max_profit_month = change[change_in_pnl.index(max_profit)+1][0]\n",
    "\n",
    "#Greatest decrease in losses (date & amount)\n",
    "max_loss = min(change_in_pnl)\n",
    "max_loss_month = change[change_in_pnl.index(max_loss)+1][0]\n",
    "\n",
    "print('Financial Analysis')\n",
    "print('----------------------------')\n",
    "print(f'Total Months:{Total_month}')\n",
    "print(f'Total:{Net_profit}')\n",
    "print(f'Average change :{average}')\n",
    "print(f'Greatest Increase in Profits : {max_profit_month} (${max_profit})')\n",
    "print(f'Greatest Decrease in Loss : {max_loss_month} (${max_loss})')\n",
    "\n",
    "# set the results in output file\n",
    "\n",
    "        \n",
    "output = 'Financial Analysis\\n'\n",
    "output += '----------------------------\\n'\n",
    "output += f'Total Months: {Total_month}\\n'\n",
    "output += f'Total: ${Net_profit}\\n'\n",
    "output += f'Average  Change: ${average}\\n'\n",
    "output += f'Greatest Increase in Profits: {max_profit_month} (${max_profit})\\n'\n",
    "output += f'Greatest Decrease in Profits: {max_loss_month} (${max_loss})\\n'\n",
    "\n",
    "with open(Path(\"new_output1.txt\"), 'x') as outputfile:  \n",
    "    print(output, file=outputfile)\n",
    "\n",
    "\n",
    "\n",
    "\n",
    "    \n",
    "    \n",
    "       \n",
    "    "
   ]
  },
  {
   "cell_type": "code",
   "execution_count": null,
   "metadata": {},
   "outputs": [],
   "source": []
  },
  {
   "cell_type": "code",
   "execution_count": null,
   "metadata": {},
   "outputs": [],
   "source": [
    "  \n",
    "    "
   ]
  },
  {
   "cell_type": "code",
   "execution_count": null,
   "metadata": {},
   "outputs": [],
   "source": []
  }
 ],
 "metadata": {
  "kernelspec": {
   "display_name": "Python 3",
   "language": "python",
   "name": "python3"
  },
  "language_info": {
   "codemirror_mode": {
    "name": "ipython",
    "version": 3
   },
   "file_extension": ".py",
   "mimetype": "text/x-python",
   "name": "python",
   "nbconvert_exporter": "python",
   "pygments_lexer": "ipython3",
   "version": "3.7.6"
  }
 },
 "nbformat": 4,
 "nbformat_minor": 4
}
